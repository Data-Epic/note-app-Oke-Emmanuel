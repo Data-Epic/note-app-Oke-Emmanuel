{
 "cells": [
  {
   "cell_type": "code",
   "execution_count": 4,
   "id": "cc1b6432-b5e0-4d76-9049-ef65e4c2d885",
   "metadata": {},
   "outputs": [
    {
     "name": "stdout",
     "output_type": "stream",
     "text": [
      "\n",
      "Options:\n",
      "1. Add a Text Note\n",
      "2. Add a Reminder Note\n",
      "3. Show All Notes\n",
      "4. Search Notes\n",
      "5. Delete a Note\n",
      "6. Exit\n"
     ]
    },
    {
     "name": "stdin",
     "output_type": "stream",
     "text": [
      "Enter your choice:  2\n",
      "Enter reminder content:  car\n",
      "Enter reminder time (YYYY-MM-DD HH:MM AM/PM):  2024-08-20 09:30 AM\n"
     ]
    },
    {
     "name": "stdout",
     "output_type": "stream",
     "text": [
      "Note added successfully! Note ID: 1\n",
      "\n",
      "Options:\n",
      "1. Add a Text Note\n",
      "2. Add a Reminder Note\n",
      "3. Show All Notes\n",
      "4. Search Notes\n",
      "5. Delete a Note\n",
      "6. Exit\n"
     ]
    },
    {
     "name": "stdin",
     "output_type": "stream",
     "text": [
      "Enter your choice:  5\n",
      "Enter Note ID to delete:  1\n"
     ]
    },
    {
     "name": "stdout",
     "output_type": "stream",
     "text": [
      "Note ID 1 deleted successfully!\n",
      "\n",
      "Options:\n",
      "1. Add a Text Note\n",
      "2. Add a Reminder Note\n",
      "3. Show All Notes\n",
      "4. Search Notes\n",
      "5. Delete a Note\n",
      "6. Exit\n"
     ]
    },
    {
     "name": "stdin",
     "output_type": "stream",
     "text": [
      "Enter your choice:  3\n"
     ]
    },
    {
     "name": "stdout",
     "output_type": "stream",
     "text": [
      "No notes available.\n",
      "\n",
      "Options:\n",
      "1. Add a Text Note\n",
      "2. Add a Reminder Note\n",
      "3. Show All Notes\n",
      "4. Search Notes\n",
      "5. Delete a Note\n",
      "6. Exit\n"
     ]
    },
    {
     "name": "stdin",
     "output_type": "stream",
     "text": [
      "Enter your choice:  6\n"
     ]
    },
    {
     "name": "stdout",
     "output_type": "stream",
     "text": [
      "Exiting...\n"
     ]
    }
   ],
   "source": [
    "from datetime import datetime\n",
    "\n",
    "class Note:\n",
    "    \"\"\"\n",
    "    Base class for notes, storing common attributes.\n",
    "    \"\"\"\n",
    "    note_id_counter = 1  # To track unique IDs for notes\n",
    "    \n",
    "    def __init__(self, content):\n",
    "        self.note_id = Note.note_id_counter\n",
    "        Note.note_id_counter += 1\n",
    "        self.content = content\n",
    "        self.created_at = datetime.now()\n",
    "    \n",
    "    def display(self):\n",
    "        \"\"\"Displays note details.\"\"\"\n",
    "        return f\"Note ID: {self.note_id}\\nContent: {self.content}\\nCreated At: {self.created_at}\\n\"\n",
    "\n",
    "class TextNote(Note):\n",
    "    \"\"\"\n",
    "    A simple text-based note.\n",
    "    \"\"\"\n",
    "    def display(self):\n",
    "        return f\"[Text Note]\\n{super().display()}\"\n",
    "\n",
    "class ReminderNote(Note):\n",
    "    \"\"\"\n",
    "    A note that includes an additional reminder date and time.\n",
    "    \"\"\"\n",
    "    def __init__(self, content, reminder_time):\n",
    "        super().__init__(content)\n",
    "        self.reminder_time = datetime.strptime(reminder_time, \"%Y-%m-%d %I:%M %p\")\n",
    "    \n",
    "    def display(self):\n",
    "        return f\"[Reminder Note]\\n{super().display()}Reminder Time: {self.reminder_time}\\n\"\n",
    "\n",
    "class NotesManager:\n",
    "    \"\"\"\n",
    "    Manages notes - adding, deleting, displaying, and searching.\n",
    "    \"\"\"\n",
    "    def __init__(self):\n",
    "        self.notes = []\n",
    "    \n",
    "    def add_note(self, note_type, content, reminder_time=None):\n",
    "        if note_type.lower() == \"text\":\n",
    "            note = TextNote(content)\n",
    "        elif note_type.lower() == \"reminder\" and reminder_time:\n",
    "            note = ReminderNote(content, reminder_time)\n",
    "        else:\n",
    "            print(\"Invalid note type or missing reminder time!\")\n",
    "            return\n",
    "        \n",
    "        self.notes.append(note)\n",
    "        print(f\"Note added successfully! Note ID: {note.note_id}\")\n",
    "    \n",
    "    def delete_note(self, note_id):\n",
    "        for note in self.notes:\n",
    "            if note.note_id == note_id:\n",
    "                self.notes.remove(note)\n",
    "                print(f\"Note ID {note_id} deleted successfully!\")\n",
    "                return\n",
    "        print(\"Note not found!\")\n",
    "    \n",
    "    def show_notes(self):\n",
    "        if not self.notes:\n",
    "            print(\"No notes available.\")\n",
    "        for note in self.notes:\n",
    "            print(note.display())\n",
    "    \n",
    "    def search_notes(self, keyword):\n",
    "        results = [note for note in self.notes if keyword.lower() in note.content.lower()]\n",
    "        if not results:\n",
    "            print(\"No matching notes found.\")\n",
    "        for note in results:\n",
    "            print(note.display())\n",
    "\n",
    "if __name__ == \"__main__\":\n",
    "    my_notes = NotesManager()\n",
    "    \n",
    "    while True:\n",
    "        print(\"\\nOptions:\")\n",
    "        print(\"1. Add a Text Note\")\n",
    "        print(\"2. Add a Reminder Note\")\n",
    "        print(\"3. Show All Notes\")\n",
    "        print(\"4. Search Notes\")\n",
    "        print(\"5. Delete a Note\")\n",
    "        print(\"6. Exit\")\n",
    "        \n",
    "        choice = input(\"Enter your choice: \")\n",
    "        \n",
    "        if choice == \"1\":\n",
    "            content = input(\"Enter note content: \")\n",
    "            my_notes.add_note(\"text\", content)\n",
    "        elif choice == \"2\":\n",
    "            content = input(\"Enter reminder content: \")\n",
    "            reminder_time = input(\"Enter reminder time (YYYY-MM-DD HH:MM AM/PM): \")\n",
    "            my_notes.add_note(\"reminder\", content, reminder_time)\n",
    "        elif choice == \"3\":\n",
    "            my_notes.show_notes()\n",
    "        elif choice == \"4\":\n",
    "            keyword = input(\"Enter keyword to search: \")\n",
    "            my_notes.search_notes(keyword)\n",
    "        elif choice == \"5\":\n",
    "            note_id = int(input(\"Enter Note ID to delete: \"))\n",
    "            my_notes.delete_note(note_id)\n",
    "        elif choice == \"6\":\n",
    "            print(\"Exiting...\")\n",
    "            break\n",
    "        else:\n",
    "            print(\"Invalid choice! Please try again.\")\n"
   ]
  },
  {
   "cell_type": "code",
   "execution_count": null,
   "id": "4b00d3dd-79f7-498d-9f54-3beecf9a1356",
   "metadata": {},
   "outputs": [],
   "source": []
  }
 ],
 "metadata": {
  "kernelspec": {
   "display_name": "Python 3 (ipykernel)",
   "language": "python",
   "name": "python3"
  },
  "language_info": {
   "codemirror_mode": {
    "name": "ipython",
    "version": 3
   },
   "file_extension": ".py",
   "mimetype": "text/x-python",
   "name": "python",
   "nbconvert_exporter": "python",
   "pygments_lexer": "ipython3",
   "version": "3.12.4"
  }
 },
 "nbformat": 4,
 "nbformat_minor": 5
}
